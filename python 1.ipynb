{
 "cells": [
  {
   "cell_type": "code",
   "execution_count": 13,
   "id": "24a13ebc-f27b-477a-aca4-299b1c6d640f",
   "metadata": {},
   "outputs": [
    {
     "name": "stdout",
     "output_type": "stream",
     "text": [
      "the sum of 10 and 5 is:15\n"
     ]
    }
   ],
   "source": [
    "#1.program for adding two numbers with function\n",
    "def sum(a,b):\n",
    "    return a + b\n",
    "\n",
    "num1 = 10\n",
    "num2 = 5\n",
    "sum_result = sum(num1,num2)\n",
    "print(f\"the sum of {num1} and {num2} is:{sum_result}\")"
   ]
  },
  {
   "cell_type": "code",
   "execution_count": 23,
   "id": "2045dd6d-17e9-44b1-97f7-fd4d1912d381",
   "metadata": {},
   "outputs": [
    {
     "name": "stdin",
     "output_type": "stream",
     "text": [
      "Enter first number:  10.2\n",
      "Enter second number:  3.50\n"
     ]
    },
    {
     "name": "stdout",
     "output_type": "stream",
     "text": [
      "the sum is: 13.7\n"
     ]
    }
   ],
   "source": [
    "#2.program to add two number with flot oin python\n",
    "def add_two_numbers(a,b):\n",
    "    return a + b\n",
    "\n",
    "a = float(input(\"Enter first number: \"))\n",
    "b = float(input(\"Enter second number: \"))\n",
    "result = add_two_numbers(a,b)\n",
    "print(\"the sum is:\",result)"
   ]
  },
  {
   "cell_type": "code",
   "execution_count": 29,
   "id": "c97faacf-8aed-4791-9532-a77ae216fb19",
   "metadata": {},
   "outputs": [
    {
     "name": "stdin",
     "output_type": "stream",
     "text": [
      "enter first number:  10\n",
      "enter second number:  9\n"
     ]
    },
    {
     "name": "stdout",
     "output_type": "stream",
     "text": [
      "the maximum is: 10\n"
     ]
    }
   ],
   "source": [
    "#3.python program to find the maximum of two numbers\n",
    "\n",
    "a = int(input(\"enter first number: \"))\n",
    "b = int(input(\"enter second number: \"))\n",
    "print(\"the maximum is:\", max(a,b))"
   ]
  },
  {
   "cell_type": "code",
   "execution_count": 31,
   "id": "df7931c7-2a76-4fdf-b498-245795a88866",
   "metadata": {},
   "outputs": [
    {
     "name": "stdin",
     "output_type": "stream",
     "text": [
      "enter first number:  10\n",
      "enter second number:  9\n"
     ]
    },
    {
     "name": "stdout",
     "output_type": "stream",
     "text": [
      "the minimum is: 9\n"
     ]
    }
   ],
   "source": [
    "#4.finding minimum number\n",
    "a = int(input(\"enter first number: \"))\n",
    "b = int(input(\"enter second number: \"))\n",
    "print(\"the minimum is:\", min(a,b))"
   ]
  },
  {
   "cell_type": "code",
   "execution_count": 35,
   "id": "bdea9d21-69e2-40ad-a104-2017a0f816ac",
   "metadata": {},
   "outputs": [
    {
     "name": "stdin",
     "output_type": "stream",
     "text": [
      "enter the first number: a\n",
      "enter the second number: z\n"
     ]
    },
    {
     "name": "stdout",
     "output_type": "stream",
     "text": [
      "the maximum is: z\n"
     ]
    }
   ],
   "source": [
    "#5.with alphabets\n",
    "a = input(\"enter the first number:\")\n",
    "b = input(\"enter the second number:\")\n",
    "print(\"the maximum is:\",max(a,b))"
   ]
  },
  {
   "cell_type": "code",
   "execution_count": 39,
   "id": "51f20112-dd89-4aae-9703-322d87efa7ae",
   "metadata": {},
   "outputs": [
    {
     "name": "stdin",
     "output_type": "stream",
     "text": [
      "enter a= 2\n",
      "enter b= 4\n"
     ]
    },
    {
     "name": "stdout",
     "output_type": "stream",
     "text": [
      "a= 4\n",
      "b= 2\n"
     ]
    }
   ],
   "source": [
    "#6.program to swap elements at given position\n",
    "a = input(\"enter a=\")\n",
    "b = input(\"enter b=\")\n",
    "temp = a \n",
    "a = b \n",
    "b = temp\n",
    "print(\"a=\",a)\n",
    "print(\"b=\",b)"
   ]
  },
  {
   "cell_type": "code",
   "execution_count": 41,
   "id": "7bb6bc2b-2a66-44a0-9e24-2719dbca37f1",
   "metadata": {},
   "outputs": [
    {
     "name": "stdout",
     "output_type": "stream",
     "text": [
      "size of tuple: 5\n"
     ]
    }
   ],
   "source": [
    "#7.program to find the size of tuples\n",
    "tpl = (1, 2, 3, 4, 5)\n",
    "print (\"size of tuple:\",len(tpl))"
   ]
  },
  {
   "cell_type": "code",
   "execution_count": 49,
   "id": "8a7d499a-06aa-4cd8-a344-fa61b8a1d252",
   "metadata": {},
   "outputs": [
    {
     "name": "stdin",
     "output_type": "stream",
     "text": [
      "enter a number: 5\n"
     ]
    },
    {
     "name": "stdout",
     "output_type": "stream",
     "text": [
      "The factorial is: 120\n"
     ]
    }
   ],
   "source": [
    "#8.python nprogram to find factorial of given number\n",
    "def factorial(n):\n",
    "    if n == 0:\n",
    "        return 1\n",
    "    else:\n",
    "        return n * factorial(n-1)\n",
    "\n",
    "n = int(input(\"enter a number:\"))\n",
    "print(\"The factorial is:\",factorial(n))"
   ]
  },
  {
   "cell_type": "code",
   "execution_count": 21,
   "id": "d04c5eb3-df68-4e66-ba7a-bb03ae449dd2",
   "metadata": {},
   "outputs": [
    {
     "name": "stdout",
     "output_type": "stream",
     "text": [
      "{1: 'a', 2: 'c', 4: 'd'}\n"
     ]
    }
   ],
   "source": [
    "#9.python code to merg dict\n",
    "dict_1 = {1: 'a', 2: 'b'}\n",
    "dict_2 = {2: 'c', 4: 'd'}\n",
    "\n",
    "print(dict_1 | dict_2)"
   ]
  },
  {
   "cell_type": "code",
   "execution_count": 29,
   "id": "902eaf79-17da-43a3-934d-f2d26199a8eb",
   "metadata": {},
   "outputs": [
    {
     "name": "stdout",
     "output_type": "stream",
     "text": [
      "size of tuples: 21\n"
     ]
    }
   ],
   "source": [
    "#10.program to find the size of tuples\n",
    "tpl = (1,2,3,4,5,6)\n",
    "print(\"size of tuples:\",(tpl))"
   ]
  },
  {
   "cell_type": "code",
   "execution_count": 5,
   "id": "eafda246-ce6f-4ab8-9bb5-d878b5c59406",
   "metadata": {},
   "outputs": [
    {
     "name": "stdout",
     "output_type": "stream",
     "text": [
      "sum of array elements: 15\n"
     ]
    }
   ],
   "source": [
    "#11.python code to find sum of elements in given array\n",
    "\n",
    "arr = [1,2,3,4,5]\n",
    "sum = 0\n",
    "for i in arr:\n",
    "    sum += i\n",
    "print(\"sum of array elements:\",sum)"
   ]
  },
  {
   "cell_type": "code",
   "execution_count": 11,
   "id": "91d817da-a0d5-4bf1-8299-0097485f5250",
   "metadata": {},
   "outputs": [
    {
     "name": "stdout",
     "output_type": "stream",
     "text": [
      "multiple of array elements 720\n"
     ]
    }
   ],
   "source": [
    "#12. python program to find multiple of array elements\n",
    "arr = [1,2,3,4,5,6]\n",
    "mul = 1\n",
    "for i in arr:\n",
    "    mul *= i\n",
    "print(\"multiple of array elements\",mul)"
   ]
  },
  {
   "cell_type": "code",
   "execution_count": 26,
   "id": "a782626d-6ce3-4735-a5ef-c7602defd17e",
   "metadata": {},
   "outputs": [
    {
     "name": "stdout",
     "output_type": "stream",
     "text": [
      "maximum number in arry: 1000\n"
     ]
    }
   ],
   "source": [
    "#13.python program to find maximuim in arr[] of size\n",
    "\n",
    "arr = [ 0,10,100,1000,20,200]\n",
    "max = arr[0]\n",
    "for i in arr:\n",
    "    if i > max:\n",
    "        max = i\n",
    "\n",
    "print(\"maximum number in arry:\",max)"
   ]
  },
  {
   "cell_type": "code",
   "execution_count": 40,
   "id": "061d27c8-3203-4f5d-941b-f2bf3f4ba0f9",
   "metadata": {},
   "outputs": [
    {
     "name": "stdout",
     "output_type": "stream",
     "text": [
      "minimum value of arry: 10\n"
     ]
    }
   ],
   "source": [
    "#14.python program to find smallest number in arry\n",
    "\n",
    "arr = [10,20,30,90]\n",
    "min = arr[0]\n",
    "for i in arr:\n",
    "   if i < min:\n",
    "       min = i\n",
    "print(\"minimum value of arry:\",min)"
   ]
  },
  {
   "cell_type": "code",
   "execution_count": 48,
   "id": "4b407d75-5b09-44d5-b4e0-b7daf7f7cc45",
   "metadata": {},
   "outputs": [
    {
     "name": "stdin",
     "output_type": "stream",
     "text": [
      "enter the principle amount= 10000\n",
      "enter time period (in years)= 1\n",
      "enter the rate of intrest pre month= 500\n"
     ]
    },
    {
     "name": "stdout",
     "output_type": "stream",
     "text": [
      "total intrest: 50000.0\n"
     ]
    }
   ],
   "source": [
    "#15.python program to find simple intrest for given principle amount,time and rate of intrest\n",
    "\n",
    "def simple_intrest(p,t,r):\n",
    "    return(p*t*r)/100\n",
    "\n",
    "principle = float(input(\"enter the principle amount=\"))\n",
    "time = float(input(\"enter time period (in years)=\"))\n",
    "rate = float(input(\"enter the rate of intrest pre month=\"))\n",
    "\n",
    "intrest = simple_intrest(principle,time,rate)\n",
    "print(\"total intrest:\",intrest)"
   ]
  },
  {
   "cell_type": "code",
   "execution_count": 63,
   "id": "47d22c45-57dd-4718-b583-f7e716cda1e1",
   "metadata": {},
   "outputs": [
    {
     "name": "stdin",
     "output_type": "stream",
     "text": [
      "enter the rupees= 30000\n",
      "enter % of intrest = 10\n",
      "enter time period (in years)= 2\n"
     ]
    },
    {
     "name": "stdout",
     "output_type": "stream",
     "text": [
      "total payable amount is (with intrest): 6000.0\n"
     ]
    }
   ],
   "source": [
    "\n",
    "def simple_intrest(p,t,r):\n",
    "    return(p*t*r)/100\n",
    "\n",
    "pr = float(input(\"enter the rupees=\"))\n",
    "rt = float(input(\"enter % of intrest =\"))\n",
    "ti = float(input(\"enter time period (in years)=\"))\n",
    "\n",
    "netamount = simple_intrest(pr,rt,ti)\n",
    "print(\"total payable amount is (with intrest):\",netamount)"
   ]
  },
  {
   "cell_type": "code",
   "execution_count": 71,
   "id": "19c14308-d7b6-48a0-8044-ef7af5397039",
   "metadata": {},
   "outputs": [
    {
     "name": "stdout",
     "output_type": "stream",
     "text": [
      "length oflist: 9\n"
     ]
    }
   ],
   "source": [
    "#16.find the length of a list using len[] function\n",
    "\n",
    "lst = [1,2,3,4,5,6,7,8,9]\n",
    "print(\"length oflist:\", len(lst))"
   ]
  },
  {
   "cell_type": "code",
   "execution_count": 79,
   "id": "965fc4ea-3366-4ad4-a7c5-b2c162b4fb13",
   "metadata": {},
   "outputs": [
    {
     "name": "stdout",
     "output_type": "stream",
     "text": [
      "element is present in the list\n"
     ]
    }
   ],
   "source": [
    "#17.python program to check whether element is present or not\n",
    "\n",
    "lst = [1,2,3,4,5,6]\n",
    "element = 2\n",
    "if element in lst:\n",
    "    print(\"element is present in the list\")\n",
    "\n",
    "else:\n",
    "    print(\"element is not there in list\")"
   ]
  },
  {
   "cell_type": "code",
   "execution_count": 85,
   "id": "a4e1453b-1b4d-4dba-9699-551a3baeb8ed",
   "metadata": {},
   "outputs": [
    {
     "name": "stdout",
     "output_type": "stream",
     "text": [
      "number is present\n"
     ]
    }
   ],
   "source": [
    "a = [10,20,30,40,50]\n",
    "number = 40\n",
    "if number in a:\n",
    "    print(\"number is present\")\n",
    "\n",
    "else:\n",
    "    print(\"number not present\")"
   ]
  },
  {
   "cell_type": "code",
   "execution_count": 87,
   "id": "61eb34db-f17f-4aee-a60c-3ce782157a62",
   "metadata": {},
   "outputs": [
    {
     "name": "stdin",
     "output_type": "stream",
     "text": [
      "enter the base of the triangle: 10\n",
      "enter the base of the triangle: 15\n"
     ]
    },
    {
     "name": "stdout",
     "output_type": "stream",
     "text": [
      "the area of the triangle is: 75.0\n"
     ]
    }
   ],
   "source": [
    "#18.python program to find area of triangle\n",
    "\n",
    "base = float(input(\"enter the base of the triangle:\"))\n",
    "height = float(input(\"enter the base of the triangle:\"))\n",
    "area = 0.5 * base * height\n",
    "print(\"the area of the triangle is:\",area)"
   ]
  },
  {
   "cell_type": "code",
   "execution_count": 3,
   "id": "20c529cb-545e-45a8-a8b9-b75d807d0448",
   "metadata": {},
   "outputs": [
    {
     "name": "stdin",
     "output_type": "stream",
     "text": [
      "enter the radius of circle = 24\n"
     ]
    },
    {
     "name": "stdout",
     "output_type": "stream",
     "text": [
      "the area of the circle is: 1808.6399999999999\n"
     ]
    }
   ],
   "source": [
    "#19.python program to find area of circle\n",
    "\n",
    "radius = float(input(\"enter the radius of circle =\"))\n",
    "area = 3.14 * radius * radius\n",
    "print(\"the area of the circle is:\",area)"
   ]
  },
  {
   "cell_type": "code",
   "execution_count": 35,
   "id": "479b1e85-70e2-4cc1-8b40-a3e1dd0f30e5",
   "metadata": {},
   "outputs": [
    {
     "name": "stdout",
     "output_type": "stream",
     "text": [
      "sum of the matrix: 45\n"
     ]
    }
   ],
   "source": [
    "#20.python program to adding elements of the matrix\n",
    "\n",
    "matrix = [[1, 2, 3],[4, 5, 6], [7, 8, 9]]\n",
    "sum = 0\n",
    "for row in matrix:\n",
    "    for element in row:\n",
    "        sum += element\n",
    "\n",
    "print(\"sum of the matrix:\",sum)"
   ]
  },
  {
   "cell_type": "code",
   "execution_count": 37,
   "id": "02bfa265-1c32-4239-94b7-02ef7ab683b9",
   "metadata": {},
   "outputs": [
    {
     "name": "stdout",
     "output_type": "stream",
     "text": [
      "original matrix:\n",
      "[1, 4, 7]\n",
      "[2, 5, 8]\n",
      "[3, 6, 9]\n",
      "transposed matrix:\n",
      "[3, 6, 9]\n",
      "[3, 6, 9]\n",
      "[3, 6, 9]\n"
     ]
    }
   ],
   "source": [
    "#21 python programs to transpose a matrix in single line\n",
    "matrix = [[1, 2, 3], [4, 5, 6], [7, 8, 9]]\n",
    "transpose = [[matrix[j][i] for j in range (len(matrix))]for i in range(len(matrix[0]))]\n",
    "\n",
    "print(\"original matrix:\")\n",
    "for row in transpose:\n",
    "    print(row)\n",
    "\n",
    "print(\"transposed matrix:\")\n",
    "for roe in transpose:\n",
    "    print(row)"
   ]
  },
  {
   "cell_type": "code",
   "execution_count": 41,
   "id": "adfb2fca-7555-4d40-a1aa-4eb37f4d6762",
   "metadata": {},
   "outputs": [
    {
     "name": "stdout",
     "output_type": "stream",
     "text": [
      "reversed list: [6, 5, 4, 3, 2, 1]\n"
     ]
    }
   ],
   "source": [
    "#22.python program to reverse list\n",
    "\n",
    "A = [1, 2, 3, 4, 5, 6]\n",
    "A.reverse()\n",
    "print(\"reversed list:\",A)"
   ]
  },
  {
   "cell_type": "code",
   "execution_count": 60,
   "id": "09bba965-a1ba-463a-9f94-f9f9c1e04b99",
   "metadata": {},
   "outputs": [
    {
     "name": "stdout",
     "output_type": "stream",
     "text": [
      "updated OrderdDict: OrderedDict({'d': 4, 'a': 1, 'b': 2, 'c': 3})\n"
     ]
    }
   ],
   "source": [
    "#23.python program to insrtion at the beginning in orderedict\n",
    "\n",
    "od = OrderedDict([('a', 1), ('b', 2),('c', 3)])\n",
    "od.update({'d': 4})\n",
    "od.move_to_end('d', last=False)\n",
    "print(\"updated OrderdDict:\",od)"
   ]
  },
  {
   "cell_type": "code",
   "execution_count": 103,
   "id": "97ce0574-6e6b-4d13-b85b-76d9083db5ad",
   "metadata": {},
   "outputs": [
    {
     "name": "stdout",
     "output_type": "stream",
     "text": [
      "False\n"
     ]
    }
   ],
   "source": [
    "#24.python program to check order of charcter in string using ordreddict\n",
    "\n",
    "def check_order(string, pattern):\n",
    "    od = OrderedDict.fromkeys(string)\n",
    "    ptrlen = 0\n",
    "    for key, value in od.items():\n",
    "        if key == pattern[ptrlen]:\n",
    "            ptrlen += 1\n",
    "        if ptrlen == len(pattern):\n",
    "                return True\n",
    "        return False\n",
    "print(check_order('hello' , 'll'))"
   ]
  },
  {
   "cell_type": "code",
   "execution_count": 117,
   "id": "a2a55c2d-0bc0-4464-a2aa-181bf445ce15",
   "metadata": {},
   "outputs": [
    {
     "name": "stdout",
     "output_type": "stream",
     "text": [
      "world! Hello\n"
     ]
    }
   ],
   "source": [
    "#25.reverse words in a given string in python\n",
    "\n",
    "def reverse_words(string):\n",
    "    words = string.split()\n",
    "    reversed_words = ' '.join(reversed(words))\n",
    "    return reversed_words\n",
    "\n",
    "string = \"Hello world!\"\n",
    "reversed_string = reverse_words(string)\n",
    "print(reversed_string) \n",
    "\n"
   ]
  },
  {
   "cell_type": "code",
   "execution_count": 123,
   "id": "40fcb221-2469-46d5-80f5-cf4410b3ff46",
   "metadata": {},
   "outputs": [
    {
     "name": "stdout",
     "output_type": "stream",
     "text": [
      "H\n",
      "e\n",
      "l\n",
      "l\n",
      "o\n"
     ]
    }
   ],
   "source": [
    "#26.python for loop to iterate through the letters in a word\n",
    "\n",
    "word = \"Hello\"\n",
    "for letter in word:\n",
    "    print (letter)"
   ]
  },
  {
   "cell_type": "code",
   "execution_count": 132,
   "id": "8853730f-3b87-4299-bb4a-d6ff0f09c53e",
   "metadata": {},
   "outputs": [
    {
     "name": "stdout",
     "output_type": "stream",
     "text": [
      "0\n",
      "1\n",
      "2\n",
      "3\n",
      "4\n",
      "5\n"
     ]
    }
   ],
   "source": [
    "#27.python for loop using the range() function\n",
    "\n",
    "for i in range(0, 6):\n",
    "     print(i)"
   ]
  },
  {
   "cell_type": "code",
   "execution_count": 134,
   "id": "940da5d7-c584-471c-8df4-232d70ad9786",
   "metadata": {},
   "outputs": [
    {
     "name": "stdout",
     "output_type": "stream",
     "text": [
      "1\n",
      "2\n",
      "3\n",
      "4\n",
      "5\n"
     ]
    }
   ],
   "source": [
    "#28.python for loop to iterate through a list\n",
    "\n",
    "lst= [1,2,3,4,5]\n",
    "for element in lst:\n",
    "    print(element)"
   ]
  },
  {
   "cell_type": "code",
   "execution_count": 140,
   "id": "8c38e554-d917-411b-b13c-64c07d85503e",
   "metadata": {},
   "outputs": [
    {
     "name": "stdout",
     "output_type": "stream",
     "text": [
      "a 1\n",
      "b 2\n",
      "c 3\n"
     ]
    }
   ],
   "source": [
    "#29.python for loop to iterate from dictionary\n",
    "\n",
    "dict = {'a': 1, 'b': 2, 'c': 3}\n",
    "for key,value in dict.items():\n",
    "    print(key, value)"
   ]
  },
  {
   "cell_type": "code",
   "execution_count": 142,
   "id": "dfa244ac-a5aa-4e8e-8ead-a9230140007c",
   "metadata": {},
   "outputs": [
    {
     "name": "stdout",
     "output_type": "stream",
     "text": [
      "0\n",
      "1\n",
      "2\n",
      "3\n",
      "4\n",
      "5\n",
      "loop finished\n"
     ]
    }
   ],
   "source": [
    "#30.using else statement inside a for loop in python\n",
    "\n",
    "for i in range (0, 6):\n",
    "    print(i)\n",
    "else:\n",
    "    print (\"loop finished\")"
   ]
  },
  {
   "cell_type": "code",
   "execution_count": 144,
   "id": "ea925218-d81a-4ec0-a7af-1f456133fde1",
   "metadata": {},
   "outputs": [
    {
     "name": "stdout",
     "output_type": "stream",
     "text": [
      "1 1\n",
      "1 2\n",
      "1 3\n",
      "1 4\n",
      "2 1\n",
      "2 2\n",
      "2 3\n",
      "2 4\n",
      "3 1\n",
      "3 2\n",
      "3 3\n",
      "3 4\n",
      "4 1\n",
      "4 2\n",
      "4 3\n",
      "4 4\n"
     ]
    }
   ],
   "source": [
    "#31.nested for loops in python (one loop inside another loop)\n",
    "for i in range(1,5):\n",
    "    for j in range(1,5):\n",
    "        print(i, j)"
   ]
  },
  {
   "cell_type": "code",
   "execution_count": null,
   "id": "1b27fb12-5cf4-48ac-ae1a-f94ad109bf04",
   "metadata": {},
   "outputs": [],
   "source": []
  }
 ],
 "metadata": {
  "kernelspec": {
   "display_name": "Python 3 (ipykernel)",
   "language": "python",
   "name": "python3"
  },
  "language_info": {
   "codemirror_mode": {
    "name": "ipython",
    "version": 3
   },
   "file_extension": ".py",
   "mimetype": "text/x-python",
   "name": "python",
   "nbconvert_exporter": "python",
   "pygments_lexer": "ipython3",
   "version": "3.12.7"
  }
 },
 "nbformat": 4,
 "nbformat_minor": 5
}
